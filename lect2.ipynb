{
 "metadata": {
  "language_info": {
   "codemirror_mode": {
    "name": "ipython",
    "version": 3
   },
   "file_extension": ".py",
   "mimetype": "text/x-python",
   "name": "python",
   "nbconvert_exporter": "python",
   "pygments_lexer": "ipython3",
   "version": "3.7.4-final"
  },
  "orig_nbformat": 2,
  "kernelspec": {
   "name": "Python 3.7.4 64-bit ('base': conda)",
   "display_name": "Python 3.7.4 64-bit ('base': conda)",
   "metadata": {
    "interpreter": {
     "hash": "9d3bae0a0f66551680ef8a166f6b92cc2774d5d7901f027deb7bb883ed06d5ae"
    }
   }
  }
 },
 "nbformat": 4,
 "nbformat_minor": 2,
 "cells": [
  {
   "cell_type": "code",
   "execution_count": 7,
   "metadata": {},
   "outputs": [
    {
     "output_type": "stream",
     "name": "stdout",
     "text": [
      "7.000000000000001\n"
     ]
    }
   ],
   "source": [
    "# matrices\n",
    "import numpy as np \n",
    "a = np.zeros([2,2], int)\n",
    "a[0,1]=3\n",
    "a[0,0]=1\n",
    "a[1,0]=-2\n",
    "a[1,1]=1\n",
    "c = np.linalg.det(a)\n",
    "print(c)\n"
   ]
  },
  {
   "cell_type": "code",
   "execution_count": 8,
   "metadata": {},
   "outputs": [
    {
     "output_type": "stream",
     "name": "stdout",
     "text": [
      "[3 4 5]\n"
     ]
    }
   ],
   "source": [
    "# arrays\n",
    "a = np.array([2, 3, 4, 5, 7, 9, 1])\n",
    "slice = a[1:4]\n",
    "print(slice)"
   ]
  },
  {
   "cell_type": "code",
   "execution_count": 9,
   "metadata": {},
   "outputs": [
    {
     "output_type": "stream",
     "name": "stdout",
     "text": [
      "short\n"
     ]
    }
   ],
   "source": [
    "# dictionaries\n",
    "mycat = {\n",
    "    \"color\": \"red\",\n",
    "    \"fur\": \"short\",\n",
    "    \"spots\": \"tabby\"\n",
    "}\n",
    "\n",
    "x = mycat.get(\"fur\")\n",
    "print(x)"
   ]
  },
  {
   "cell_type": "code",
   "execution_count": null,
   "metadata": {},
   "outputs": [],
   "source": []
  }
 ]
}